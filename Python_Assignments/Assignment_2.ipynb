{
 "cells": [
  {
   "cell_type": "code",
   "execution_count": null,
   "metadata": {},
   "outputs": [],
   "source": [
    "## 1.What are the Boolean data type's two values? How do you go about writing them?\n",
    "## Booleans data type represents one of two values: True or False.\n",
    "x = True\n",
    "y = False\n"
   ]
  },
  {
   "cell_type": "code",
   "execution_count": null,
   "metadata": {},
   "outputs": [],
   "source": [
    "## 2. What are the three different types of Boolean operators?\n",
    "##  The logical operators AND, OR and NOT are referred to as Boolean operators. "
   ]
  },
  {
   "cell_type": "code",
   "execution_count": 11,
   "metadata": {},
   "outputs": [
    {
     "data": {
      "text/plain": [
       "True"
      ]
     },
     "execution_count": 11,
     "metadata": {},
     "output_type": "execute_result"
    }
   ],
   "source": [
    "## 3. Make a list of each Boolean operator's truth tables (i.e. every possible combination of Boolean values for the operator and what it evaluate ).\n",
    "##  x  y   x or y\n",
    "False or False == False\n",
    "False or True == True\n",
    "True or False == True\n",
    "True or True == True\n",
    "\n",
    "##  x  y   x and y\n",
    "False and False == False\n",
    "False and True == False\n",
    "True and False == False\n",
    "True and True == True\n",
    "\n",
    "not True == False\n",
    "not False == True"
   ]
  },
  {
   "cell_type": "code",
   "execution_count": 23,
   "metadata": {},
   "outputs": [
    {
     "data": {
      "text/plain": [
       "True"
      ]
     },
     "execution_count": 23,
     "metadata": {},
     "output_type": "execute_result"
    }
   ],
   "source": [
    "## What are the values of the following expressions?\n",
    "(5 > 4) and (3 == 5) == False\n",
    "not (5 > 4) == False\n",
    "(5 > 4) or (3 == 5) == True\n",
    "not ((5 > 4) or (3 == 5)) == False\n",
    "(True and True) and (True == False) == False\n",
    "(not False) or (not True) == True"
   ]
  },
  {
   "cell_type": "code",
   "execution_count": null,
   "metadata": {},
   "outputs": [],
   "source": [
    "## 5. What are the six different types of reference operators?\n",
    "+=  ##\ta+=b is equivalent to a=a+b\n",
    "*=  ##\ta*=b is equivalent to a=a*b\n",
    "/=  ##\ta/=b is equivalent to a=a/b\n",
    "%=\t## a%=b is equivalent to a=a%b\n",
    "**= ##\ta**=b is equivalent to a=a**b (exponent operator)\n",
    "//=  ##\ta//=b is equivalent to a=a//b (floor division)"
   ]
  },
  {
   "cell_type": "code",
   "execution_count": null,
   "metadata": {},
   "outputs": [],
   "source": [
    "## 6.How do you tell the difference between the equal to and assignment operators?\n",
    "## The “=” is an assignment operator is used to assign the value a variable.\n",
    "##  The ‘==’ operator checks whether the two given operands are equal or not. If so, it returns true else false."
   ]
  },
  {
   "cell_type": "code",
   "execution_count": null,
   "metadata": {},
   "outputs": [],
   "source": [
    "## 7 . Describe a condition and when you would use one.\n",
    "## The '=' operator is used to assign a value to a variable.\n",
    "## The ‘==’ operator is used during checking  if,elif conditions."
   ]
  },
  {
   "cell_type": "code",
   "execution_count": 32,
   "metadata": {},
   "outputs": [
    {
     "name": "stdout",
     "output_type": "stream",
     "text": [
      "lastspam\n"
     ]
    }
   ],
   "source": [
    "##8. Recognize the following three blocks in this code:\n",
    "\n",
    "spam = 0\n",
    "if spam == 10:\n",
    "    print('eggs')\n",
    "    if spam > 5:\n",
    "        print('bacon')\n",
    "    else:\n",
    "        print('ham')\n",
    "    print('spam')\n",
    "print('spam')\n",
    "\n",
    "## Ans : Will not enter the if condition and print ths last 'spam' String."
   ]
  },
  {
   "cell_type": "code",
   "execution_count": 54,
   "metadata": {},
   "outputs": [
    {
     "name": "stdout",
     "output_type": "stream",
     "text": [
      "Enter a value4\n",
      "Salutations!\n"
     ]
    }
   ],
   "source": [
    "##9. Create a programme that prints. If 1 is stored in spam, prints Hello; if 2 is stored in spam, prints Howdy; and if 3 is stored in spam, prints Salutations! if there's something else in spam.\n",
    "\n",
    "spam = int(input ('Enter a value'))\n",
    "if(spam == 1):\n",
    "    print('Hello')\n",
    "elif(spam==2):\n",
    "    print('Howdy')\n",
    "else:\n",
    "    print('Salutations!')    "
   ]
  },
  {
   "cell_type": "code",
   "execution_count": 36,
   "metadata": {},
   "outputs": [],
   "source": [
    "## 10.If your programme is stuck in an endless loop, what keys can you press?\n",
    "## Ctrl + C from command line . Interrupt kernel from Jupiter NoteBook"
   ]
  },
  {
   "cell_type": "code",
   "execution_count": null,
   "metadata": {},
   "outputs": [],
   "source": [
    "## 11. How can you tell the difference between break and continue?\n",
    "## The main difference between break and continue is that break is used for immediate termination of loop. On the other hand, ‘continue’ terminate the current iteration and resumes the control to the next iteration of the loop."
   ]
  },
  {
   "cell_type": "code",
   "execution_count": 40,
   "metadata": {},
   "outputs": [],
   "source": [
    "## 12. In a for loop, what is the difference between range(10), range(0, 10), and range(0, 10, 1)?\n",
    "## There is no difference , it all prints values from 0-9."
   ]
  },
  {
   "cell_type": "code",
   "execution_count": 44,
   "metadata": {},
   "outputs": [
    {
     "name": "stdout",
     "output_type": "stream",
     "text": [
      "1\n",
      "2\n",
      "3\n",
      "4\n",
      "5\n",
      "6\n",
      "7\n",
      "8\n",
      "9\n",
      "10\n",
      "1\n",
      "2\n",
      "3\n",
      "4\n",
      "5\n",
      "6\n",
      "7\n",
      "8\n",
      "9\n",
      "10\n"
     ]
    }
   ],
   "source": [
    "\n",
    "##13. Using a for loop, write a short programme that prints the numbers 1 to 10 Then, using a while loop, create an identical programme that prints the numbers 1 to 10.\n",
    "## for loop\n",
    "for i in range(1,11):\n",
    "        print(i)\n",
    "j= 1 \n",
    "##while loop\n",
    "while (j<=10):\n",
    "       print(j)\n",
    "       j=j+1\n",
    "        \n",
    "        \n",
    "        \n",
    "        "
   ]
  },
  {
   "cell_type": "code",
   "execution_count": 49,
   "metadata": {},
   "outputs": [
    {
     "data": {
      "text/plain": [
       "' import spam as sp\\nx = sp.bacon() '"
      ]
     },
     "execution_count": 49,
     "metadata": {},
     "output_type": "execute_result"
    }
   ],
   "source": [
    "## 14.  If you had a bacon() function within a spam module, how  would you call it after importing spam?\n",
    "## import spam as sp\n",
    "## x = sp.bacon() "
   ]
  },
  {
   "cell_type": "code",
   "execution_count": null,
   "metadata": {},
   "outputs": [],
   "source": []
  }
 ],
 "metadata": {
  "kernelspec": {
   "display_name": "Python 3",
   "language": "python",
   "name": "python3"
  },
  "language_info": {
   "codemirror_mode": {
    "name": "ipython",
    "version": 3
   },
   "file_extension": ".py",
   "mimetype": "text/x-python",
   "name": "python",
   "nbconvert_exporter": "python",
   "pygments_lexer": "ipython3",
   "version": "3.8.5"
  }
 },
 "nbformat": 4,
 "nbformat_minor": 4
}
