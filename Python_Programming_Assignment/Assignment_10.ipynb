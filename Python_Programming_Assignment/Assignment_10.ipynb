{
 "cells": [
  {
   "cell_type": "code",
   "execution_count": 1,
   "metadata": {},
   "outputs": [
    {
     "name": "stdout",
     "output_type": "stream",
     "text": [
      "Sum of all elements is  100\n"
     ]
    }
   ],
   "source": [
    "## Write a Python program to find sum of elements in list?\n",
    "lst = [10,20,30,40]\n",
    "print('Sum of all elements is ', sum(lst))"
   ]
  },
  {
   "cell_type": "code",
   "execution_count": 5,
   "metadata": {},
   "outputs": [
    {
     "name": "stdout",
     "output_type": "stream",
     "text": [
      "The multiplication result is  240000\n",
      "The multiplication result is  240000\n",
      "The multiplication result is  240000\n"
     ]
    }
   ],
   "source": [
    "## Write a Python program to Multiply all numbers in the list?\n",
    "import numpy,math\n",
    "lst = [10,20,30,40]\n",
    "result=1\n",
    "for i in range(len(lst)):\n",
    "    result *= lst[i]\n",
    "print('The multiplication result is ', result)  \n",
    "print('The multiplication result is ', numpy.prod(lst))    \n",
    "print('The multiplication result is ', math.prod(lst))    "
   ]
  },
  {
   "cell_type": "code",
   "execution_count": 6,
   "metadata": {},
   "outputs": [
    {
     "name": "stdout",
     "output_type": "stream",
     "text": [
      "Smallest number in the list  10\n"
     ]
    }
   ],
   "source": [
    "## Write a Python program to find smallest number in a list?\n",
    "lst = [10,20,30,40]\n",
    "print('Smallest number in the list ', min(lst))"
   ]
  },
  {
   "cell_type": "code",
   "execution_count": 7,
   "metadata": {},
   "outputs": [
    {
     "name": "stdout",
     "output_type": "stream",
     "text": [
      "Smallest number in the list  40\n"
     ]
    }
   ],
   "source": [
    "## Write a Python program to find largest number in a list?\n",
    "lst = [10,20,30,40]\n",
    "print('Smallest number in the list ', max(lst))"
   ]
  },
  {
   "cell_type": "code",
   "execution_count": 12,
   "metadata": {},
   "outputs": [
    {
     "name": "stdout",
     "output_type": "stream",
     "text": [
      "Second Largest Element is 40\n"
     ]
    }
   ],
   "source": [
    "## Write a Python program to find second largest number in a list?\n",
    "lst = [10,20,30,50,40]\n",
    "sorted_list = sorted(lst)\n",
    "print('Second Largest Element is' , sorted_list[-2])"
   ]
  },
  {
   "cell_type": "code",
   "execution_count": 13,
   "metadata": {},
   "outputs": [
    {
     "name": "stdout",
     "output_type": "stream",
     "text": [
      "Second Largest Element is [30, 40, 50]\n"
     ]
    }
   ],
   "source": [
    "## Write a Python program to find N largest elements from a list?\n",
    "lst = [10,20,30,50,40]\n",
    "sorted_list = sorted(lst)\n",
    "n= 3\n",
    "print('Second Largest Element is' , sorted_list[-3:])"
   ]
  },
  {
   "cell_type": "code",
   "execution_count": 19,
   "metadata": {},
   "outputs": [
    {
     "name": "stdout",
     "output_type": "stream",
     "text": [
      "20 Is an even number\n",
      "50 Is an even number\n",
      "Even list : [20, 50]\n"
     ]
    }
   ],
   "source": [
    "##Write a Python program to print even numbers in a list?\n",
    "lst = [9,20,21,50,33]\n",
    "even_lst = [i for i in lst if i % 2 == 0 ]\n",
    "for i in range(len(lst)):\n",
    "    if lst[i] % 2 == 0 :\n",
    "        print (lst[i],'Is an even number')\n",
    "print('Even list :', even_lst)        "
   ]
  },
  {
   "cell_type": "code",
   "execution_count": 20,
   "metadata": {},
   "outputs": [
    {
     "name": "stdout",
     "output_type": "stream",
     "text": [
      "Odd list : [9, 21, 33]\n"
     ]
    }
   ],
   "source": [
    "## Write a Python program to print odd numbers in a List?\n",
    "lst = [9,20,21,50,33]\n",
    "odd_lst = [i for i in lst if i % 2 == 1 ]\n",
    "print('Odd list :', odd_lst)  "
   ]
  },
  {
   "cell_type": "code",
   "execution_count": 10,
   "metadata": {},
   "outputs": [
    {
     "name": "stdout",
     "output_type": "stream",
     "text": [
      "Final List  [9, 20, 21, 50, 33]\n"
     ]
    }
   ],
   "source": [
    "## Write a Python program to Remove empty List from List?\n",
    "lst = [9,20,21,50,33,[],[]]\n",
    "res = [ele for ele in lst if ele != []]\n",
    "print('Final List ' , res)        "
   ]
  },
  {
   "cell_type": "code",
   "execution_count": 14,
   "metadata": {},
   "outputs": [
    {
     "name": "stdout",
     "output_type": "stream",
     "text": [
      "Copied List is  [9, 20, 21, 50, 33]\n",
      "Copied List is  [9, 20, 21, 50, 33]\n"
     ]
    }
   ],
   "source": [
    "## Write a Python program to Cloning or Copying a list?\n",
    "lst = [9,20,21,50,33]\n",
    "copy_lst = [i for i in lst]\n",
    "li_copy = []\n",
    "li_copy.extend(lst)\n",
    "print('Copied List is ', copy_lst)\n",
    "print('Copied List is ', li_copy)"
   ]
  },
  {
   "cell_type": "code",
   "execution_count": 15,
   "metadata": {},
   "outputs": [
    {
     "name": "stdout",
     "output_type": "stream",
     "text": [
      "Count of 20 is  2\n"
     ]
    }
   ],
   "source": [
    "## Write a Python program to Count occurrences of an element in a list?\n",
    "num = int()\n",
    "lst = [9,20,21,20,50,33]\n",
    "print('Count of 20 is ', lst.count(20))"
   ]
  },
  {
   "cell_type": "code",
   "execution_count": null,
   "metadata": {},
   "outputs": [],
   "source": []
  }
 ],
 "metadata": {
  "kernelspec": {
   "display_name": "Python 3",
   "language": "python",
   "name": "python3"
  },
  "language_info": {
   "codemirror_mode": {
    "name": "ipython",
    "version": 3
   },
   "file_extension": ".py",
   "mimetype": "text/x-python",
   "name": "python",
   "nbconvert_exporter": "python",
   "pygments_lexer": "ipython3",
   "version": "3.8.5"
  }
 },
 "nbformat": 4,
 "nbformat_minor": 4
}
