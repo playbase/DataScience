{
 "cells": [
  {
   "cell_type": "code",
   "execution_count": 8,
   "metadata": {},
   "outputs": [
    {
     "name": "stdout",
     "output_type": "stream",
     "text": [
      "Enter the n terms as a positive number5\n",
      "Fibonacci sequence:\n",
      "0\n",
      "1\n",
      "1\n",
      "2\n",
      "3\n"
     ]
    }
   ],
   "source": [
    "## Write a Python Program to Display Fibonacci Sequence Using Recursion?\n",
    "def fibo(n):\n",
    "   if n <= 1:\n",
    "       return n\n",
    "   else:\n",
    "       return(fibo(n-1) + fibo(n-2))\n",
    "\n",
    "nterms = int(input('Enter the n terms as a positive number'))\n",
    "\n",
    "# check if the number of terms is valid\n",
    "print(\"Fibonacci sequence:\")\n",
    "for i in range(nterms):\n",
    "     print(fibo(i))"
   ]
  },
  {
   "cell_type": "code",
   "execution_count": null,
   "metadata": {},
   "outputs": [],
   "source": [
    "## Write a Python Program to Display Fibonacci Sequence Using Recursion?\n",
    "def factorial(n):\n",
    "    if n==0:\n",
    "      return 1\n",
    "    return n * factorial(n-1)\n",
    "n = int(input('Input a postive number:'))\n",
    "print('The factorial is {}'.format(factorial(n)))"
   ]
  },
  {
   "cell_type": "code",
   "execution_count": 9,
   "metadata": {},
   "outputs": [
    {
     "name": "stdout",
     "output_type": "stream",
     "text": [
      "Input your height in Feet: 5.8\n",
      "Input your weight in Kilogram: 82\n",
      "Your body mass index is:  2.44\n"
     ]
    }
   ],
   "source": [
    "## Write a Python Program to calculate your Body Mass Index?\n",
    "height = float(input(\"Input your height in Feet: \"))\n",
    "weight = float(input(\"Input your weight in Kilogram: \"))\n",
    "print(\"Your body mass index is: \", round(weight / (height * height), 2))"
   ]
  },
  {
   "cell_type": "code",
   "execution_count": 11,
   "metadata": {},
   "outputs": [
    {
     "name": "stdout",
     "output_type": "stream",
     "text": [
      "Enter a positive number10\n",
      "The logarithm of the number is 2.302585092994046\n"
     ]
    }
   ],
   "source": [
    "## Write a Python Program to calculate the natural logarithm of any number?\n",
    "import math\n",
    "n = int(input('Enter a positive number'))\n",
    "print('The logarithm of the number is', math.log(n))"
   ]
  },
  {
   "cell_type": "code",
   "execution_count": 18,
   "metadata": {},
   "outputs": [
    {
     "name": "stdout",
     "output_type": "stream",
     "text": [
      "Enter a positive number: 3\n",
      "The sum is  10\n"
     ]
    }
   ],
   "source": [
    "## Write a Python Program for cube sum of first n natural numbers?\n",
    "num = int(input('Enter a positive number: '))\n",
    "sum = 1\n",
    "for i in range(1,num):\n",
    "    sum += i ** 3\n",
    "print(\"The sum is \", sum)    "
   ]
  },
  {
   "cell_type": "code",
   "execution_count": null,
   "metadata": {},
   "outputs": [],
   "source": []
  }
 ],
 "metadata": {
  "kernelspec": {
   "display_name": "Python 3",
   "language": "python",
   "name": "python3"
  },
  "language_info": {
   "codemirror_mode": {
    "name": "ipython",
    "version": 3
   },
   "file_extension": ".py",
   "mimetype": "text/x-python",
   "name": "python",
   "nbconvert_exporter": "python",
   "pygments_lexer": "ipython3",
   "version": "3.8.5"
  }
 },
 "nbformat": 4,
 "nbformat_minor": 4
}
