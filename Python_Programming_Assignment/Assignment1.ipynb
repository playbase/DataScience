{
 "cells": [
  {
   "cell_type": "code",
   "execution_count": 1,
   "metadata": {},
   "outputs": [
    {
     "name": "stdout",
     "output_type": "stream",
     "text": [
      "Hello Python\n"
     ]
    }
   ],
   "source": [
    "## Write a Python program to print \"Hello Python\"\n",
    "print('Hello Python')"
   ]
  },
  {
   "cell_type": "code",
   "execution_count": 2,
   "metadata": {},
   "outputs": [
    {
     "name": "stdout",
     "output_type": "stream",
     "text": [
      "Sum is 15\n",
      "Result of Division 2.0\n"
     ]
    }
   ],
   "source": [
    "## Write a Python program to do arithmetical operations addition and division.?\n",
    "a = 10\n",
    "b = 5\n",
    "print(\"Sum is {}\".format(a+b))\n",
    "print(\"Result of Division {}\".format(a/b))"
   ]
  },
  {
   "cell_type": "code",
   "execution_count": 7,
   "metadata": {},
   "outputs": [
    {
     "name": "stdout",
     "output_type": "stream",
     "text": [
      "Enter the base of the traingle:30\n",
      "Enter the height of the traingle:20\n",
      "Area of the traigle is 300\n"
     ]
    }
   ],
   "source": [
    "## Write a Python program to find the area of a triangle?\n",
    "base = int(input(\"Enter the base of the traingle:\"))\n",
    "height = int(input(\"Enter the height of the traingle:\"))\n",
    "print(\"Area of the traigle is {}\".format(int((base*height)/2)))"
   ]
  },
  {
   "cell_type": "code",
   "execution_count": 8,
   "metadata": {},
   "outputs": [
    {
     "name": "stdout",
     "output_type": "stream",
     "text": [
      "Enter First variable2\n",
      "Enter Second variable3\n",
      "After swap the variables are 3 and 2\n"
     ]
    }
   ],
   "source": [
    "## Write a Python program to swap two variables?\n",
    "a = int(input(\"Enter First variable\"))\n",
    "b = int(input(\"Enter Second variable\"))\n",
    "temp=a\n",
    "a=b\n",
    "b=temp\n",
    "print(\"After swap the variables are {} and {}\".format(a,b))"
   ]
  },
  {
   "cell_type": "code",
   "execution_count": 12,
   "metadata": {},
   "outputs": [
    {
     "name": "stdout",
     "output_type": "stream",
     "text": [
      "58\n"
     ]
    }
   ],
   "source": [
    "# Write a Python program to generate a random number?\n",
    "import random\n",
    "\n",
    "print(random.randint(0,100))"
   ]
  },
  {
   "cell_type": "code",
   "execution_count": null,
   "metadata": {},
   "outputs": [],
   "source": []
  }
 ],
 "metadata": {
  "kernelspec": {
   "display_name": "Python 3",
   "language": "python",
   "name": "python3"
  },
  "language_info": {
   "codemirror_mode": {
    "name": "ipython",
    "version": 3
   },
   "file_extension": ".py",
   "mimetype": "text/x-python",
   "name": "python",
   "nbconvert_exporter": "python",
   "pygments_lexer": "ipython3",
   "version": "3.8.5"
  }
 },
 "nbformat": 4,
 "nbformat_minor": 4
}
