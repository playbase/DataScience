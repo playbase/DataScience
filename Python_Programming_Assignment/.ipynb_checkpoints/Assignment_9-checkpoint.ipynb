{
 "cells": [
  {
   "cell_type": "code",
   "execution_count": 29,
   "metadata": {},
   "outputs": [
    {
     "name": "stdout",
     "output_type": "stream",
     "text": [
      "Enter a number to check : 175\n",
      "175 Number is a Disarium Number\n"
     ]
    }
   ],
   "source": [
    "## Write a Python program to check if the given number is a Disarium Number?\n",
    "num = int(input('Enter a number to check : '))\n",
    "original_num = num \n",
    "leng = len(str(num))\n",
    "sum = 0 \n",
    "while (leng > 0):\n",
    "      temp = num % 10\n",
    "      sum  += temp ** leng \n",
    "      leng = leng -1 \n",
    "      num //= 10\n",
    "if original_num == sum:\n",
    "    print('{} Number is a Disarium Number'.format(sum))\n",
    "else :\n",
    "    print('It is not a Disarium Number')\n",
    "        \n",
    "   "
   ]
  },
  {
   "cell_type": "code",
   "execution_count": null,
   "metadata": {},
   "outputs": [],
   "source": []
  }
 ],
 "metadata": {
  "kernelspec": {
   "display_name": "Python 3",
   "language": "python",
   "name": "python3"
  }
 },
 "nbformat": 4,
 "nbformat_minor": 4
}
