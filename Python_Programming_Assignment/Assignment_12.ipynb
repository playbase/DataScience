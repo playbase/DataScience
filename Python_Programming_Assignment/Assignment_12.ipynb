{
 "cells": [
  {
   "cell_type": "code",
   "execution_count": 13,
   "metadata": {},
   "outputs": [
    {
     "name": "stdout",
     "output_type": "stream",
     "text": [
      "Unique Values are  [1, 2, 5, 6, 7, 8, 10, 11, 12]\n"
     ]
    }
   ],
   "source": [
    "## Write a Python program to Extract Unique dictionary values?\n",
    "dt = {'gfg' : [5, 6, 7, 8],\n",
    "             'is' : [10, 11, 7, 5],\n",
    "             'best' : [6, 12, 10, 8],\n",
    "             'for' : [1, 2, 5]}\n",
    "s = set()\n",
    "for i in dt.values():\n",
    "          for j in i: \n",
    "             s.add(j)\n",
    "print(\"Unique Values are \", sorted(s))      "
   ]
  },
  {
   "cell_type": "code",
   "execution_count": 3,
   "metadata": {},
   "outputs": [
    {
     "name": "stdout",
     "output_type": "stream",
     "text": [
      "The sum is  600\n"
     ]
    }
   ],
   "source": [
    "## Write a Python program to find the sum of all items in a dictionary?\n",
    "dt = {'a': 100, 'b':200, 'c':300}\n",
    "sum = 0\n",
    "for i in dt:\n",
    "    sum += dt[i]\n",
    "print('The sum is ', sum)    "
   ]
  },
  {
   "cell_type": "code",
   "execution_count": 17,
   "metadata": {},
   "outputs": [
    {
     "data": {
      "text/plain": [
       "{'a': 100, 'b': 200, 'c': 300, 'd': 1001, 'f': 3001}"
      ]
     },
     "execution_count": 17,
     "metadata": {},
     "output_type": "execute_result"
    }
   ],
   "source": [
    "## Write a Python program to Merging two Dictionaries?\n",
    "dt1 = {'a': 100, 'b':200, 'c':300}\n",
    "dt2 = {'d': 1001, 'a':100, 'f':3001}\n",
    "dt1.update(dt2)\n",
    "dt1"
   ]
  },
  {
   "cell_type": "code",
   "execution_count": 28,
   "metadata": {},
   "outputs": [
    {
     "data": {
      "text/plain": [
       "OrderedDict([('a', 500), ('c', 200), ('b', 400)])"
      ]
     },
     "execution_count": 28,
     "metadata": {},
     "output_type": "execute_result"
    }
   ],
   "source": [
    "## Write a Python program to sort Python Dictionaries by Key or Value?\n",
    "from collections import OrderedDict\n",
    "dt1 = {'a': 500, 'c':200, 'b':400}\n",
    "dt = OrderedDict(dt1)\n",
    "sorted(dt1.keys())\n",
    "sorted(dt1.values())\n",
    "dt"
   ]
  },
  {
   "cell_type": "code",
   "execution_count": 26,
   "metadata": {},
   "outputs": [
    {
     "data": {
      "text/plain": [
       "OrderedDict([('c', 200), ('b', 400), ('a', 500)])"
      ]
     },
     "execution_count": 26,
     "metadata": {},
     "output_type": "execute_result"
    }
   ],
   "source": [
    "## Write a Python program to insertion at the beginning in OrderedDict?\n",
    "from collections import OrderedDict\n",
    "dt = OrderedDict({'c':200, 'b':400})\n",
    "dt.update({'a': 500})\n",
    "dt.move_to_end('c',last=False)\n",
    "dt"
   ]
  },
  {
   "cell_type": "code",
   "execution_count": null,
   "metadata": {},
   "outputs": [],
   "source": []
  }
 ],
 "metadata": {
  "kernelspec": {
   "display_name": "Python 3",
   "language": "python",
   "name": "python3"
  },
  "language_info": {
   "codemirror_mode": {
    "name": "ipython",
    "version": 3
   },
   "file_extension": ".py",
   "mimetype": "text/x-python",
   "name": "python",
   "nbconvert_exporter": "python",
   "pygments_lexer": "ipython3",
   "version": "3.8.5"
  }
 },
 "nbformat": 4,
 "nbformat_minor": 4
}
