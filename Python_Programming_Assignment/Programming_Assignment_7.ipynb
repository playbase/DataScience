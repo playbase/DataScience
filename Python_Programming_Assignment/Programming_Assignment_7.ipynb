{
 "cells": [
  {
   "cell_type": "code",
   "execution_count": 2,
   "metadata": {},
   "outputs": [
    {
     "name": "stdout",
     "output_type": "stream",
     "text": [
      "Sum of the array 21\n"
     ]
    }
   ],
   "source": [
    "## Write a Python Program to find sum of array?\n",
    "arr = [1,2,3,4,5,6]\n",
    "print('Sum of the array', sum(arr))"
   ]
  },
  {
   "cell_type": "code",
   "execution_count": 3,
   "metadata": {},
   "outputs": [
    {
     "name": "stdout",
     "output_type": "stream",
     "text": [
      "Largest element of the array 6\n"
     ]
    }
   ],
   "source": [
    "## Write a Python Program to find largest element in an array?\n",
    "arr = [1,2,3,4,5,6]\n",
    "print('Largest element of the array', max(arr))"
   ]
  },
  {
   "cell_type": "code",
   "execution_count": 6,
   "metadata": {},
   "outputs": [
    {
     "name": "stdout",
     "output_type": "stream",
     "text": [
      "Array Rotated [6, 5, 4, 3, 2, 1]\n"
     ]
    }
   ],
   "source": [
    "## Write a Python Program for array rotation?\n",
    "arr = [1,2,3,4,5,6]\n",
    "print('Array Rotated', arr[::-1])"
   ]
  },
  {
   "cell_type": "code",
   "execution_count": 12,
   "metadata": {},
   "outputs": [
    {
     "name": "stdout",
     "output_type": "stream",
     "text": [
      "New Array [5, 6, 52, 36, 12, 10]\n"
     ]
    }
   ],
   "source": [
    "## Write a Python Program to Split the array and add the first part to the end?\n",
    "arr = [12, 10, 5, 6, 52, 36]\n",
    "pos = 2\n",
    "new_arr = arr[pos:] + arr[:pos]\n",
    "print('New Array', new_arr)"
   ]
  },
  {
   "cell_type": "code",
   "execution_count": 14,
   "metadata": {},
   "outputs": [
    {
     "name": "stdout",
     "output_type": "stream",
     "text": [
      "False\n"
     ]
    }
   ],
   "source": [
    "## Write a Python Program to check if given array is Monotonic?\n",
    "def is_monotonic(A):\n",
    "  \n",
    "    return (all(A[i] <= A[i + 1] for i in range(len(A) - 1)) or\n",
    "            all(A[i] >= A[i + 1] for i in range(len(A) - 1)))\n",
    "  \n",
    "A = [6, 5, 4, 56]\n",
    " \n",
    "print(is_monotonic(A))"
   ]
  },
  {
   "cell_type": "code",
   "execution_count": null,
   "metadata": {},
   "outputs": [],
   "source": []
  }
 ],
 "metadata": {
  "kernelspec": {
   "display_name": "Python 3",
   "language": "python",
   "name": "python3"
  },
  "language_info": {
   "codemirror_mode": {
    "name": "ipython",
    "version": 3
   },
   "file_extension": ".py",
   "mimetype": "text/x-python",
   "name": "python",
   "nbconvert_exporter": "python",
   "pygments_lexer": "ipython3",
   "version": "3.8.5"
  }
 },
 "nbformat": 4,
 "nbformat_minor": 4
}
