{
 "cells": [
  {
   "cell_type": "code",
   "execution_count": 11,
   "metadata": {},
   "outputs": [
    {
     "name": "stdout",
     "output_type": "stream",
     "text": [
      "Enter the length to find : 5\n",
      "WorldToday is greater than lenth 5\n"
     ]
    }
   ],
   "source": [
    "## Write a Python program to find words which are greater than given length k?\n",
    "k = int(input('Enter the length to find : '))\n",
    "string = \"Hello  is a good today\"\n",
    "lst = string.split(\" \")\n",
    "for i in range(len(lst)):\n",
    "    if len(lst[i]) > k:\n",
    "        print('{} is greater than length {}'.format(lst[i],k))"
   ]
  },
  {
   "cell_type": "code",
   "execution_count": 20,
   "metadata": {},
   "outputs": [
    {
     "name": "stdout",
     "output_type": "stream",
     "text": [
      "Enter the i-th character to remove : 5\n",
      "new_str Worloday\n"
     ]
    }
   ],
   "source": [
    "## Write a Python program for removing i-th character from a string?\n",
    "i = int(input('Enter the i-th character to remove : '))\n",
    "string = \"WorldToday\"\n",
    "print ('new_str',string[0:i-1] + string[i+ 1:])"
   ]
  },
  {
   "cell_type": "code",
   "execution_count": 27,
   "metadata": {},
   "outputs": [
    {
     "name": "stdout",
     "output_type": "stream",
     "text": [
      "Joined String :  Hello is a good today \n"
     ]
    }
   ],
   "source": [
    "## Write a Python program to split and join a string?\n",
    "string = \"Hello is a good today\"\n",
    "s = \"\"\n",
    "lst = string.split(' ')\n",
    "for i in lst:\n",
    "      s+= i + \" \"\n",
    "print(\"Joined String : \",s)        \n",
    "\n",
    "    "
   ]
  },
  {
   "cell_type": "code",
   "execution_count": 32,
   "metadata": {},
   "outputs": [
    {
     "name": "stdout",
     "output_type": "stream",
     "text": [
      "Yes\n"
     ]
    }
   ],
   "source": [
    "## Write a Python to check if a given string is binary string or not?\n",
    "string = \"101110\"\n",
    "p = set(string)\n",
    "s = {'0', '1'}\n",
    "if s == p or p == {'0'} or p == {'1'}:\n",
    "        print(\"Yes\")\n",
    "else :\n",
    "        print(\"No\")"
   ]
  },
  {
   "cell_type": "code",
   "execution_count": 47,
   "metadata": {},
   "outputs": [
    {
     "name": "stdout",
     "output_type": "stream",
     "text": [
      "Uncomom Words :  {'World', 'Maki', 'Rahul'}\n"
     ]
    }
   ],
   "source": [
    "## Write a Python program to find uncommon words from two Strings?\n",
    "s1 = set(\"Hello World \".split(\" \"))\n",
    "s2 = set(\"Hello Rahul\".split(\" \"))\n",
    "print(\"Uncomom Words : \" ,s1.symmetric_difference(s2))\n"
   ]
  },
  {
   "cell_type": "code",
   "execution_count": 64,
   "metadata": {},
   "outputs": [
    {
     "name": "stdout",
     "output_type": "stream",
     "text": [
      "Duplicate Characters are  {'a', 'i', 'f', 'o', 'b', 'l'}\n"
     ]
    }
   ],
   "source": [
    "## Write a Python to find all duplicate characters in string?\n",
    "s1 = \"Hello World FiFi Baba\".capitalize()\n",
    "s = set()\n",
    "for i in s1:\n",
    "    if (s1.count(i) > 1 and i!= ' '):\n",
    "       s.add(i)\n",
    "print('Duplicate Characters are ' , s)    \n",
    "        "
   ]
  },
  {
   "cell_type": "code",
   "execution_count": 68,
   "metadata": {},
   "outputs": [
    {
     "name": "stdout",
     "output_type": "stream",
     "text": [
      "Enter a string: t_&&\n",
      "String contains special character\n"
     ]
    }
   ],
   "source": [
    "## Write a Python Program to check if a string contains any special character?\n",
    "import re\n",
    "string = input('Enter a string: ')\n",
    "regex = re.compile('[@_!#$%^&*()<>?/\\|}{~:]')  \n",
    "if(regex.search(string) == None):\n",
    "     print(\"String all fine !! \")          \n",
    "else:\n",
    "     print(\"String contains special character\")"
   ]
  },
  {
   "cell_type": "code",
   "execution_count": null,
   "metadata": {},
   "outputs": [],
   "source": []
  }
 ],
 "metadata": {
  "kernelspec": {
   "display_name": "Python 3",
   "language": "python",
   "name": "python3"
  },
  "language_info": {
   "codemirror_mode": {
    "name": "ipython",
    "version": 3
   },
   "file_extension": ".py",
   "mimetype": "text/x-python",
   "name": "python",
   "nbconvert_exporter": "python",
   "pygments_lexer": "ipython3",
   "version": "3.8.5"
  }
 },
 "nbformat": 4,
 "nbformat_minor": 4
}
