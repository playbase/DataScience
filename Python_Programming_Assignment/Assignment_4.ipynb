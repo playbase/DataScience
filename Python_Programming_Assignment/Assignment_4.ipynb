{
 "cells": [
  {
   "cell_type": "code",
   "execution_count": 12,
   "metadata": {},
   "outputs": [
    {
     "name": "stdout",
     "output_type": "stream",
     "text": [
      "Enter a number : 3\n",
      "The factorial of 3 is 6\n"
     ]
    }
   ],
   "source": [
    "## Write a Python Program to Find the Factorial of a Number?\n",
    "num = int(input(\"Enter a number : \"))\n",
    "factorial = 1\n",
    "if num < 0:\n",
    "   print(\"Sorry, factorial does not exist for negative numbers\")\n",
    "elif num == 0:\n",
    "   print(\"The factorial of 0 is 1\")\n",
    "else:\n",
    "   for i in range(1,num + 1):\n",
    "       factorial = factorial*i\n",
    "   print(\"The factorial of\",num,\"is\",factorial)"
   ]
  },
  {
   "cell_type": "code",
   "execution_count": 20,
   "metadata": {},
   "outputs": [
    {
     "name": "stdout",
     "output_type": "stream",
     "text": [
      "Enter the number of terms: 12\n",
      "Fibonacci Series :-\n",
      "0\n",
      "1\n",
      "1\n",
      "2\n",
      "3\n",
      "5\n",
      "8\n",
      "13\n",
      "21\n",
      "34\n",
      "55\n"
     ]
    }
   ],
   "source": [
    "## Write a Python Program to Print the Fibonacci sequence?\n",
    "nterms = int(input(\"Enter the number of terms: \"))\n",
    "n1,n2 =0,1\n",
    "nth =0\n",
    "count = 1\n",
    "print('Fibonacci Series :-')\n",
    "while (count < nterms):\n",
    "    print(n1)\n",
    "    nth = n1+n2\n",
    "    ##Now swap\n",
    "    n1=n2\n",
    "    n2=nth \n",
    "    count+=1\n"
   ]
  },
  {
   "cell_type": "code",
   "execution_count": 4,
   "metadata": {},
   "outputs": [
    {
     "name": "stdout",
     "output_type": "stream",
     "text": [
      "Enter the number to check :407\n",
      "407 is the sum\n",
      "407 is an Armstrong number\n"
     ]
    }
   ],
   "source": [
    "## Write a Python Program to Check Armstrong Number?\n",
    "num=int(input(\"Enter the number to check :\"))\n",
    "sum = 0\n",
    "temp = num\n",
    "while temp > 0:\n",
    "     digit = temp % 10\n",
    "     sum += digit ** 3\n",
    "     temp //= 10 ## floor division.\n",
    "\n",
    "print(sum,\"is the sum\")        \n",
    "if sum == num:\n",
    "     print(num,\"is an Armstrong number\")\n",
    "else:\n",
    "   print(num,\"is not an Armstrong number\")        "
   ]
  },
  {
   "cell_type": "code",
   "execution_count": 7,
   "metadata": {},
   "outputs": [
    {
     "name": "stdout",
     "output_type": "stream",
     "text": [
      "Enter the lower bound :100\n",
      "Enter the higher bound :1000\n",
      "153\n",
      "370\n",
      "371\n",
      "407\n"
     ]
    }
   ],
   "source": [
    "## Write a Python Program to Find Armstrong Number in an Interval?\n",
    "lower = int(input(\"Enter the lower bound :\"))\n",
    "upper = int(input(\"Enter the higher bound :\"))\n",
    "\n",
    "for num in range(lower, upper + 1):\n",
    "\n",
    "   # order of number\n",
    "   order = len(str(num))\n",
    "    \n",
    "   # initialize sum\n",
    "   sum = 0\n",
    "\n",
    "   temp = num\n",
    "   while temp > 0:\n",
    "       digit = temp % 10\n",
    "       sum += digit ** order\n",
    "       temp //= 10 ## floor division.\n",
    "\n",
    "   if num == sum:\n",
    "       print(num)\n"
   ]
  },
  {
   "cell_type": "code",
   "execution_count": 9,
   "metadata": {},
   "outputs": [
    {
     "name": "stdout",
     "output_type": "stream",
     "text": [
      "Enter a number :100\n",
      "The sum is 5050\n"
     ]
    }
   ],
   "source": [
    "## Write a Python Program to Find the Sum of Natural Numbers?\n",
    "num = int(input(\"Enter a number :\"))\n",
    "temp = num \n",
    "sum = 0\n",
    "if(num < 0):\n",
    "    print('Please enter a positive number.')\n",
    "else :\n",
    "    while(temp > 0):\n",
    "        sum += temp\n",
    "        temp = temp -1\n",
    "print(\"The sum is {}\".format(sum))        "
   ]
  },
  {
   "cell_type": "code",
   "execution_count": null,
   "metadata": {},
   "outputs": [],
   "source": []
  }
 ],
 "metadata": {
  "kernelspec": {
   "display_name": "Python 3",
   "language": "python",
   "name": "python3"
  },
  "language_info": {
   "codemirror_mode": {
    "name": "ipython",
    "version": 3
   },
   "file_extension": ".py",
   "mimetype": "text/x-python",
   "name": "python",
   "nbconvert_exporter": "python",
   "pygments_lexer": "ipython3",
   "version": "3.8.5"
  }
 },
 "nbformat": 4,
 "nbformat_minor": 4
}
