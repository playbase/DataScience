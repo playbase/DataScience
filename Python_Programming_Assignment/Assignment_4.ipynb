{
 "cells": [
  {
   "cell_type": "code",
   "execution_count": 12,
   "metadata": {},
   "outputs": [
    {
     "name": "stdout",
     "output_type": "stream",
     "text": [
      "Enter a number : 3\n",
      "The factorial of 3 is 6\n"
     ]
    }
   ],
   "source": [
    "## Write a Python Program to Find the Factorial of a Number?\n",
    "num = int(input(\"Enter a number : \"))\n",
    "factorial = 1\n",
    "if num < 0:\n",
    "   print(\"Sorry, factorial does not exist for negative numbers\")\n",
    "elif num == 0:\n",
    "   print(\"The factorial of 0 is 1\")\n",
    "else:\n",
    "   for i in range(1,num + 1):\n",
    "       factorial = factorial*i\n",
    "   print(\"The factorial of\",num,\"is\",factorial)"
   ]
  },
  {
   "cell_type": "code",
   "execution_count": 20,
   "metadata": {},
   "outputs": [
    {
     "name": "stdout",
     "output_type": "stream",
     "text": [
      "Enter the number of terms: 12\n",
      "Fibonacci Series :-\n",
      "0\n",
      "1\n",
      "1\n",
      "2\n",
      "3\n",
      "5\n",
      "8\n",
      "13\n",
      "21\n",
      "34\n",
      "55\n"
     ]
    }
   ],
   "source": [
    "## Write a Python Program to Print the Fibonacci sequence?\n",
    "nterms = int(input(\"Enter the number of terms: \"))\n",
    "n1,n2 =0,1\n",
    "nth =0\n",
    "count = 1\n",
    "print('Fibonacci Series :-')\n",
    "while (count < nterms):\n",
    "    print(n1)\n",
    "    nth = n1+n2\n",
    "    ##Now swap\n",
    "    n1=n2\n",
    "    n2=nth \n",
    "    count+=1\n"
   ]
  },
  {
   "cell_type": "code",
   "execution_count": null,
   "metadata": {},
   "outputs": [],
   "source": []
  }
 ],
 "metadata": {
  "kernelspec": {
   "display_name": "Python 3",
   "language": "python",
   "name": "python3"
  },
  "language_info": {
   "codemirror_mode": {
    "name": "ipython",
    "version": 3
   },
   "file_extension": ".py",
   "mimetype": "text/x-python",
   "name": "python",
   "nbconvert_exporter": "python",
   "pygments_lexer": "ipython3",
   "version": "3.8.5"
  }
 },
 "nbformat": 4,
 "nbformat_minor": 4
}
