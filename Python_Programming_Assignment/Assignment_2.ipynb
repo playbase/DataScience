{
 "cells": [
  {
   "cell_type": "code",
   "execution_count": 3,
   "metadata": {},
   "outputs": [
    {
     "name": "stdout",
     "output_type": "stream",
     "text": [
      "Enter the value in KM:20\n",
      "The corresponsing value in miles is 12.4\n"
     ]
    }
   ],
   "source": [
    "## Write a Python program to convert kilometers to miles?\n",
    "km = float(input(\"Enter the value in KM:\"))\n",
    "print(\"The corresponsing value in miles is {}\".format(0.62 * km))"
   ]
  },
  {
   "cell_type": "code",
   "execution_count": 11,
   "metadata": {},
   "outputs": [
    {
     "name": "stdout",
     "output_type": "stream",
     "text": [
      "Enter the value in Celcuis:40\n",
      "The corresponsing value in Fahrenheit is 104.0\n"
     ]
    }
   ],
   "source": [
    "## Write a Python program to convert Celsius to Fahrenheit?\n",
    "cel = float(input(\"Enter the value in Celcuis:\"))\n",
    "print(\"The corresponsing value in Fahrenheit is {}\".format((cel * 9)/5 + 32 ))"
   ]
  },
  {
   "cell_type": "code",
   "execution_count": 18,
   "metadata": {},
   "outputs": [
    {
     "name": "stdout",
     "output_type": "stream",
     "text": [
      "     March 2021\n",
      "Mo Tu We Th Fr Sa Su\n",
      " 1  2  3  4  5  6  7\n",
      " 8  9 10 11 12 13 14\n",
      "15 16 17 18 19 20 21\n",
      "22 23 24 25 26 27 28\n",
      "29 30 31\n",
      "\n"
     ]
    }
   ],
   "source": [
    "## Write a Python program to display calendar?\n",
    "import calendar\n",
    "print(calendar.month(2021, 3))"
   ]
  },
  {
   "cell_type": "code",
   "execution_count": 19,
   "metadata": {},
   "outputs": [
    {
     "name": "stdout",
     "output_type": "stream",
     "text": [
      "The roots are\n",
      "(-3.414213562373095+0j)\n",
      "(-0.5857864376269049+0j)\n"
     ]
    }
   ],
   "source": [
    "## Write a Python program to solve quadratic equation?\n",
    "import cmath \n",
    "  \n",
    "a = 1\n",
    "b = 4\n",
    "c = 2\n",
    "  \n",
    "# calculating  the discriminant \n",
    "dis = (b**2) - (4 * a*c) \n",
    "  \n",
    "# find two results \n",
    "ans1 = (-b-cmath.sqrt(dis))/(2 * a) \n",
    "ans2 = (-b + cmath.sqrt(dis))/(2 * a) \n",
    "  \n",
    "# printing the results \n",
    "print('The roots are') \n",
    "print(ans1) \n",
    "print(ans2) "
   ]
  },
  {
   "cell_type": "code",
   "execution_count": 21,
   "metadata": {},
   "outputs": [
    {
     "name": "stdout",
     "output_type": "stream",
     "text": [
      "Enter First variable: 10\n",
      "Enter Second variable: 7\n",
      "After swap the variables are 7 and 10\n"
     ]
    }
   ],
   "source": [
    "## Write a Python program to swap two variables without temp variable?\n",
    "a = int(input(\"Enter First variable: \")) ## 10\n",
    "b = int(input(\"Enter Second variable: \")) ## 5\n",
    "a = a+b ## 15\n",
    "b = a-b  ## 10\n",
    "a = a-b\n",
    "print(\"After swap the variables are {} and {}\".format(a,b))"
   ]
  },
  {
   "cell_type": "code",
   "execution_count": null,
   "metadata": {},
   "outputs": [],
   "source": []
  }
 ],
 "metadata": {
  "kernelspec": {
   "display_name": "Python 3",
   "language": "python",
   "name": "python3"
  },
  "language_info": {
   "codemirror_mode": {
    "name": "ipython",
    "version": 3
   },
   "file_extension": ".py",
   "mimetype": "text/x-python",
   "name": "python",
   "nbconvert_exporter": "python",
   "pygments_lexer": "ipython3",
   "version": "3.8.5"
  }
 },
 "nbformat": 4,
 "nbformat_minor": 4
}
