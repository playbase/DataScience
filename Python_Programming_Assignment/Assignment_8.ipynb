{
 "cells": [
  {
   "cell_type": "code",
   "execution_count": null,
   "metadata": {},
   "outputs": [],
   "source": [
    "## Write a Python Program to Add Two Matrices?\n",
    "## TODO"
   ]
  },
  {
   "cell_type": "code",
   "execution_count": null,
   "metadata": {},
   "outputs": [],
   "source": [
    "## Write a Python Program to Multiply Two Matrices?\n"
   ]
  },
  {
   "cell_type": "code",
   "execution_count": null,
   "metadata": {},
   "outputs": [],
   "source": [
    "## Write a Python Program to Transpose a Matrix?"
   ]
  },
  {
   "cell_type": "code",
   "execution_count": 7,
   "metadata": {},
   "outputs": [
    {
     "name": "stdout",
     "output_type": "stream",
     "text": [
      "The sorted words are :  ['Hello', 'Is', 'My', 'Name', 'Rahul', 'World']\n"
     ]
    }
   ],
   "source": [
    "## Write a Python Program to Sort Words in Alphabetic Order?\n",
    "st = \"Hello World My Name Is Rahul\"\n",
    "lst =  st.split(\" \")\n",
    "print(\"The sorted words are : \", sorted(lst))"
   ]
  },
  {
   "cell_type": "code",
   "execution_count": 15,
   "metadata": {},
   "outputs": [
    {
     "name": "stdout",
     "output_type": "stream",
     "text": [
      "The original string is : Gfg, is best : for ! Geeks ;\n",
      "After removal  : Gfg is best  for  Geeks \n"
     ]
    }
   ],
   "source": [
    "## Write a Python Program to Remove Punctuation From a String?\n",
    "import re\n",
    "test_str = \"Gfg, is best : for ! Geeks ;\"\n",
    "print(\"The original string is : \" + test_str)\n",
    "pattern = r'[^\\w\\s]'\n",
    "test_str = re.sub(pattern,\"\",test_str)\n",
    "print(\"After removal  : \" + test_str)"
   ]
  },
  {
   "cell_type": "code",
   "execution_count": null,
   "metadata": {},
   "outputs": [],
   "source": []
  }
 ],
 "metadata": {
  "kernelspec": {
   "display_name": "Python 3",
   "language": "python",
   "name": "python3"
  },
  "language_info": {
   "codemirror_mode": {
    "name": "ipython",
    "version": 3
   },
   "file_extension": ".py",
   "mimetype": "text/x-python",
   "name": "python",
   "nbconvert_exporter": "python",
   "pygments_lexer": "ipython3",
   "version": "3.8.5"
  }
 },
 "nbformat": 4,
 "nbformat_minor": 4
}
