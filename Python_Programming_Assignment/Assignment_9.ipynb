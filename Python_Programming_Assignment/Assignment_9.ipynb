{
 "cells": [
  {
   "cell_type": "code",
   "execution_count": null,
   "metadata": {},
   "outputs": [],
   "source": [
    "## Write a Python program to check if the given number is a Disarium Number?\n",
    "num = int(input('Enter a number to check : '))\n",
    "original_num = num \n",
    "leng = len(str(num))\n",
    "sum = 0 \n",
    "while (leng > 0):\n",
    "      temp = num % 10\n",
    "      sum  += temp ** leng \n",
    "      leng -= 1\n",
    "      num //= 10\n",
    "if original_num == sum:\n",
    "    print('{} Number is a Disarium Number'.format(sum))\n",
    "else :\n",
    "    print('It is not a Disarium Number')\n",
    "        \n",
    "   "
   ]
  },
  {
   "cell_type": "code",
   "execution_count": null,
   "metadata": {},
   "outputs": [],
   "source": [
    "## Write a Python program to print all disarium numbers between 1 to 100?\n",
    "for num in range(1,200):\n",
    "    original_num = num \n",
    "    leng = len(str(num))\n",
    "    sum = 0 \n",
    "    if num < 10:\n",
    "        continue\n",
    "    while (leng > 0):\n",
    "          temp = num % 10\n",
    "          sum  += temp ** leng \n",
    "          leng -= 1\n",
    "          num //= 10\n",
    "    if original_num == sum:\n",
    "        print('{} Number is a Disarium Number'.format(sum))\n",
    "    "
   ]
  },
  {
   "cell_type": "code",
   "execution_count": null,
   "metadata": {},
   "outputs": [],
   "source": [
    "## Write a Python program to check if the given number is Happy Number?\n",
    "result = int(input('Enter a happy number : '))\n",
    "original_num = result\n",
    "\n",
    " #Happy number always ends with 1 and     \n",
    "    #unhappy number ends in a cycle of repeating numbers which contains 4    \n",
    "while(result != 1 and result != 4):    \n",
    "        result = isHappyNumber(result);\n",
    "        \n",
    "if(result == 1):    \n",
    "        print(original_num,'Is a happy number.')\n",
    "        \n",
    "    \n",
    "def isHappyNumber(num):    \n",
    "    rem = sum = 0;    \n",
    "        \n",
    "    #Calculates the sum of squares of digits    \n",
    "    while(num > 0):    \n",
    "        rem = num%10;    \n",
    "        sum = sum + (rem*rem);    \n",
    "        num = num//10;    \n",
    "    return sum;                 \n",
    "       "
   ]
  },
  {
   "cell_type": "code",
   "execution_count": null,
   "metadata": {},
   "outputs": [],
   "source": [
    "## Write a Python program to print all happy numbers between 1 and 100?\n",
    "def isHappyNumber(num):    \n",
    "    rem = sum = 0;    \n",
    "        \n",
    "    #Calculates the sum of squares of digits    \n",
    "    while(num > 0):    \n",
    "        rem = num%10;    \n",
    "        sum = sum + (rem*rem);    \n",
    "        num = num//10;    \n",
    "    return sum;    \n",
    "            \n",
    "#Displays all happy numbers between 1 and 100    \n",
    "print(\"List of happy numbers between 1 and 100: \");    \n",
    "for i in range(1, 101):    \n",
    "    result = i;    \n",
    "        \n",
    "    #Happy number always ends with 1 and     \n",
    "    #unhappy number ends in a cycle of repeating numbers which contains 4    \n",
    "    while(result != 1 and result != 4):    \n",
    "        result = isHappyNumber(result);    \n",
    "        \n",
    "    if(result == 1):    \n",
    "        print(i),    \n",
    "        print(\" \"), "
   ]
  },
  {
   "cell_type": "code",
   "execution_count": 3,
   "metadata": {},
   "outputs": [
    {
     "name": "stdout",
     "output_type": "stream",
     "text": [
      "Enter a number to check : 23\n",
      "It is not a Disarium Number\n"
     ]
    }
   ],
   "source": [
    "## Write a Python program to determine whether the given number is a Harshad Number?\n",
    "num = int(input('Enter a number to check : '))\n",
    "original_num = num \n",
    "leng = len(str(num))\n",
    "sum = 0 \n",
    "while (leng > 0):\n",
    "      temp = num % 10\n",
    "      sum  += temp \n",
    "      leng -= 1\n",
    "      num //= 10\n",
    "if original_num % sum == 0 :\n",
    "    print('{} Number is a Harshad Number'.format(original_num))\n",
    "else :\n",
    "    print('It is not a Harshad Number')\n",
    "        "
   ]
  },
  {
   "cell_type": "code",
   "execution_count": null,
   "metadata": {},
   "outputs": [],
   "source": [
    "## Write a Python program to print all pronic numbers between 1 and 100?\n",
    "def isPronicNumber(num):    \n",
    "    flag = False;    \n",
    "        \n",
    "    for j in range(1, num+1):    \n",
    "        #Checks for pronic number by multiplying consecutive numbers    \n",
    "        if((j*(j+1)) == num):    \n",
    "            flag = True;    \n",
    "            break;    \n",
    "    return flag;    \n",
    "     \n",
    "#Displays pronic numbers between 1 and 100    \n",
    "print(\"Pronic numbers between 1 and 100: \");    \n",
    "for i in range(1, 101):    \n",
    "    if(isPronicNumber(i)):    \n",
    "        print(i),    \n",
    "        print(\" \"),   "
   ]
  }
 ],
 "metadata": {
  "kernelspec": {
   "display_name": "Python 3",
   "language": "python",
   "name": "python3"
  },
  "language_info": {
   "codemirror_mode": {
    "name": "ipython",
    "version": 3
   },
   "file_extension": ".py",
   "mimetype": "text/x-python",
   "name": "python",
   "nbconvert_exporter": "python",
   "pygments_lexer": "ipython3",
   "version": "3.8.5"
  }
 },
 "nbformat": 4,
 "nbformat_minor": 4
}
